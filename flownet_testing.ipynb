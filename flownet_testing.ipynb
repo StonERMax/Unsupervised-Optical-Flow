{
 "cells": [
  {
   "cell_type": "code",
   "execution_count": 1,
   "metadata": {},
   "outputs": [],
   "source": [
    "import numpy as np\n",
    "import matplotlib.pyplot as plt\n",
    "import matplotlib.image as mpimg\n",
    "import cv2\n",
    "import skimage as sk\n",
    "from PIL import Image \n",
    "import albumentations as albu\n",
    "from albumentations.pytorch import ToTensor\n",
    "#------------------------------#------------------------------------------------------\n",
    "from sklearn.metrics import f1_score, accuracy_score, roc_auc_score\n",
    "from sklearn.model_selection import train_test_split\n",
    "from sklearn import preprocessing\n",
    "from sklearn.manifold import TSNE\n",
    "#------------------------------#------------------------------------------------------\n",
    "import torch\n",
    "import torch.nn as nn\n",
    "import torch.optim as optim\n",
    "import torch.nn.functional as F\n",
    "from torch.utils.data import Dataset, DataLoader\n",
    "from torch.nn.init import kaiming_normal_, constant_\n",
    "import torchvision\n",
    "from torchvision import models, transforms\n",
    "#------------------------------#------------------------------------------------------\n",
    "from IPython.display import display\n",
    "import copy\n",
    "import os\n",
    "import time\n",
    "import sys\n",
    "import re \n",
    "import random\n",
    "#------------------------------#------------------------------------------------------\n",
    "from utils import *\n",
    "from dataset import *\n",
    "from models import FlowNetS, Unsupervised\n",
    "#------------------------------#------------------------------------------------------\n",
    "np.random.seed(seed=1)\n",
    "%matplotlib inline"
   ]
  },
  {
   "cell_type": "code",
   "execution_count": null,
   "metadata": {},
   "outputs": [],
   "source": []
  },
  {
   "cell_type": "markdown",
   "metadata": {},
   "source": [
    "### Data augmentation"
   ]
  },
  {
   "cell_type": "code",
   "execution_count": null,
   "metadata": {},
   "outputs": [],
   "source": [
    "frame1 = cv2.cvtColor(cv2.imread('../sintel/training/albedo/alley_1/frame_0010.png'), cv2.COLOR_BGR2RGB)\n",
    "frame2 = cv2.cvtColor(cv2.imread('../sintel/training/albedo/alley_1/frame_0011.png'), cv2.COLOR_BGR2RGB)\n",
    "flow = readflo('../sintel/training/flow/alley_1/frame_0010.flo')\n",
    "\n",
    "#########################################################################\n",
    "\n",
    "f, ax = plt.subplots(1, 3, figsize=(24, 8))\n",
    "ax[0].imshow(frame1)\n",
    "ax[0].set_title('frame1')\n",
    "ax[0].axis(\"off\")\n",
    "ax[1].imshow(frame2)\n",
    "ax[1].set_title('frame2')\n",
    "ax[1].axis(\"off\")\n",
    "ax[2].imshow(computeImg(flow))\n",
    "ax[2].set_title('flow')\n",
    "ax[2].axis(\"off\")\n",
    "\n",
    "#########################################################################\n",
    "\n",
    "images = [frame1, frame2]\n",
    "\n",
    "def create_transformer(transformations, images):\n",
    "    target = {}\n",
    "    for i, image in enumerate(images[1:]):\n",
    "        target['image' + str(i)] = 'image'\n",
    "    return albu.Compose(transformations, p=1, additional_targets=target)(image=images[0],\n",
    "                                                                        image0=images[1])\n",
    "\n",
    "transformed = create_transformer([albu.Blur(p=1)], images)\n",
    "\n",
    "im1 = transformed['image']\n",
    "im2 = transformed['image0']\n",
    "# aug_flow = transformed['image1']\n",
    "aug_flow = flow\n",
    "print(im1.shape)\n",
    "##########################################################################\n",
    "\n",
    "f, ax = plt.subplots(1, 3, figsize=(24, 8))\n",
    "ax[0].imshow(im1)\n",
    "ax[0].set_title('aug_frame1')\n",
    "ax[0].axis(\"off\")\n",
    "ax[1].imshow(im2)\n",
    "ax[1].set_title('aug_frame2')\n",
    "ax[1].axis(\"off\")\n",
    "ax[2].imshow(computerArrows(flow = flow, img = frame1), cmap = 'gray')\n",
    "ax[2].set_title('aug_flow')\n",
    "ax[2].axis(\"off\")"
   ]
  },
  {
   "cell_type": "markdown",
   "metadata": {},
   "source": [
    "### Data augmentation. testing with Dataset class"
   ]
  },
  {
   "cell_type": "code",
   "execution_count": null,
   "metadata": {},
   "outputs": [],
   "source": [
    "root = '../sintel/training'"
   ]
  },
  {
   "cell_type": "code",
   "execution_count": null,
   "metadata": {},
   "outputs": [],
   "source": [
    "co_aug_transforms=None\n",
    "frames_aug_transforms = None\n",
    "frames_transforms = None\n",
    "\n",
    "frames_transforms = albu.Compose([\n",
    "            albu.Normalize((0., 0., 0.), (1., 1., 1.)),\n",
    "            ToTensor()\n",
    "        ]) \n",
    "\n",
    "co_aug_transforms= albu.Compose([\n",
    "            albu.RandomSizedCrop((0, 384), 300, 400, w2h_ratio=512/384, p=0.5),\n",
    "            albu.Flip(),\n",
    "            albu.ShiftScaleRotate()\n",
    "        ]) \n",
    "\n",
    "frames_aug_transforms= albu.Compose([\n",
    "            albu.OneOf([albu.Blur(), albu.MedianBlur(), albu.MotionBlur()], p= 0.5),\n",
    "    \n",
    "            albu.OneOf([albu.OneOf([albu.HueSaturationValue(), albu.RandomContrast(), \n",
    "                        albu.RandomBrightness(),albu.RandomBrightnessContrast()], p= 1),\n",
    "                        \n",
    "                        albu.OneOf([albu.CLAHE(), albu.ToGray()], p=1)], p=0.5),\n",
    "            albu.GaussNoise(),\n",
    "        ]) "
   ]
  },
  {
   "cell_type": "code",
   "execution_count": null,
   "metadata": {},
   "outputs": [],
   "source": [
    "dataset= FlyingChairs(root, frames_transforms, frames_aug_transforms, co_aug_transforms)"
   ]
  },
  {
   "cell_type": "code",
   "execution_count": null,
   "metadata": {},
   "outputs": [],
   "source": [
    "frames, flow = dataset[3]"
   ]
  },
  {
   "cell_type": "code",
   "execution_count": null,
   "metadata": {},
   "outputs": [],
   "source": [
    "frame1_t = frames[:3].numpy().transpose(1, 2, 0)\n",
    "frame2_t = frames[3:].numpy().transpose(1, 2, 0)\n",
    "flow_t = flow.numpy().transpose(1, 2, 0)"
   ]
  },
  {
   "cell_type": "code",
   "execution_count": null,
   "metadata": {},
   "outputs": [],
   "source": [
    "f, ax = plt.subplots(1, 3, figsize=(24, 8))\n",
    "ax[0].imshow(frame1_t)\n",
    "ax[0].set_title('aug_frame1')\n",
    "ax[0].axis(\"off\")\n",
    "ax[1].imshow(frame2_t)\n",
    "ax[1].set_title('aug_frame2')\n",
    "ax[1].axis(\"off\")\n",
    "ax[2].imshow(computeImg(flow_t))\n",
    "ax[2].set_title('aug_flow')\n",
    "ax[2].axis(\"off\")"
   ]
  },
  {
   "cell_type": "code",
   "execution_count": null,
   "metadata": {},
   "outputs": [],
   "source": []
  }
 ],
 "metadata": {
  "kernelspec": {
   "display_name": "Python 3",
   "language": "python",
   "name": "python3"
  },
  "language_info": {
   "codemirror_mode": {
    "name": "ipython",
    "version": 3
   },
   "file_extension": ".py",
   "mimetype": "text/x-python",
   "name": "python",
   "nbconvert_exporter": "python",
   "pygments_lexer": "ipython3",
   "version": "3.6.9"
  }
 },
 "nbformat": 4,
 "nbformat_minor": 2
}
